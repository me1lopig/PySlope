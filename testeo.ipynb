{
 "cells": [
  {
   "cell_type": "code",
   "execution_count": 1,
   "metadata": {},
   "outputs": [
    {
     "name": "stdout",
     "output_type": "stream",
     "text": [
      "FSmin= 1.545132342334297\n"
     ]
    }
   ],
   "source": [
    "# Prueba de la libreria pyslope\n",
    "\n",
    "import pyslope as sp\n",
    "\n",
    "s = sp.Slope(height=3, angle=30, length=None)\n",
    "\n",
    "sp.Slope.plot_boundary(s, material_table=False, legend=False)\n",
    "\n",
    "# Material defined with key word arguments\n",
    "m1 = sp.Material(\n",
    "    unit_weight=20,\n",
    "    friction_angle=45,\n",
    "    cohesion=2,\n",
    "    depth_to_bottom=4\n",
    ")\n",
    "\n",
    "# Material defined with positional arguments\n",
    "m2 = sp.Material(20, 30, 2, 3)\n",
    "\n",
    "# An unlimited number of materials can be assigned at one time\n",
    "s.set_materials(m1, m2)\n",
    "\n",
    "\n",
    "# analisys\n",
    "s.set_analysis_limits(s.get_top_coordinates()[0] - 5, s.get_bottom_coordinates()[0] + 5) # limits\n",
    "\n",
    "s.analyse_slope()\n",
    "\n",
    "print(\"FSmin=\",s.get_min_FOS())\n",
    "\n",
    "#s.plot_boundary()  # plots only the boundary\n",
    "#s.plot_critical()  # plots the boundary with the critical failure of the slope\n",
    "#s.plot_all_planes(max_fos=1) # plots boundary with all slope failures below fos i (where i is number)\n"
   ]
  },
  {
   "cell_type": "code",
   "execution_count": 9,
   "metadata": {},
   "outputs": [
    {
     "name": "stderr",
     "output_type": "stream",
     "text": [
      "100%|███████████████████████████████████████████████████████████████████████████████████████████████████| 7/7 [00:00<00:00, 2559.29it/s]"
     ]
    },
    {
     "name": "stdout",
     "output_type": "stream",
     "text": [
      "Slices: 10\n",
      "radius: 3, FOS: 1.8508413415134908\n",
      "radius: 4, FOS: 2.7906284957600973\n",
      "radius: 5, FOS: 3.442631141350264\n",
      "radius: 6, FOS: 3.9884864760496486\n",
      "radius: 7, FOS: 4.618650895261268\n",
      "radius: 8, FOS: 5.289612164441339\n",
      "radius: 9, FOS: 5.984422769524531\n"
     ]
    },
    {
     "name": "stderr",
     "output_type": "stream",
     "text": [
      "\n"
     ]
    },
    {
     "name": "stdout",
     "output_type": "stream",
     "text": [
      "Slices: 25\n",
      "radius: 3, FOS: 1.8620101073963895\n",
      "radius: 4, FOS: 2.8170503224073835\n",
      "radius: 5, FOS: 3.4661603059947805\n",
      "radius: 6, FOS: 4.020126961058873\n",
      "radius: 7, FOS: 4.643604194529189\n",
      "radius: 8, FOS: 5.300957336198945\n",
      "radius: 9, FOS: 5.9870098293878\n",
      "Slices: 50\n",
      "radius: 3, FOS: 1.862869857203966\n",
      "radius: 4, FOS: 2.8234313880894435\n",
      "radius: 5, FOS: 3.475549210900526\n",
      "radius: 6, FOS: 4.028336068580169\n",
      "radius: 7, FOS: 4.652195335974325\n",
      "radius: 8, FOS: 5.316164798453608\n",
      "radius: 9, FOS: 5.999273688420878\n",
      "Slices: 500\n",
      "radius: 3, FOS: 1.8632741453673636\n",
      "radius: 4, FOS: 2.8267311675137865\n",
      "radius: 5, FOS: 3.481457730298173\n",
      "radius: 6, FOS: 4.034704510570197\n",
      "radius: 7, FOS: 4.6594275969103665\n",
      "radius: 8, FOS: 5.323276935054004\n",
      "radius: 9, FOS: 6.008285588329589\n",
      "Slices: 2000\n",
      "radius: 3, FOS: 1.8632741453673636\n",
      "radius: 4, FOS: 2.8267311675137865\n",
      "radius: 5, FOS: 3.481457730298173\n",
      "radius: 6, FOS: 4.034704510570197\n",
      "radius: 7, FOS: 4.6594275969103665\n",
      "radius: 8, FOS: 5.323276935054004\n",
      "radius: 9, FOS: 6.008285588329589\n"
     ]
    }
   ],
   "source": [
    "# Effect of slices on results\n",
    "\n",
    "import pyslope as sp\n",
    "\n",
    "\n",
    "s = sp.Slope(height=3, angle=30, length=None)\n",
    "\n",
    "m1 = sp.Material(20, 35, 0, 0.5)\n",
    "m2 = sp.Material(20, 35, 0, 1)\n",
    "m3 = sp.Material(18, 30, 0, 5)\n",
    "\n",
    "s.set_materials(m1, m2, m3)\n",
    "\n",
    "\n",
    "\n",
    "for r in range(2, 10):\n",
    "    s.add_single_circular_plane(\n",
    "        c_x=s.get_bottom_coordinates()[0],\n",
    "        c_y=s.get_bottom_coordinates()[1] + 2.5,\n",
    "        radius=r,\n",
    "    )\n",
    "\n",
    "slices = [10, 25, 50, 500,2000]\n",
    "\n",
    "for i in slices:\n",
    "\n",
    "    s.update_analysis_options(slices=i)\n",
    "    s.analyse_slope()\n",
    "\n",
    "    print(f'Slices: {i}')\n",
    "    for a in s._search:\n",
    "        print(f'radius: {a[\"radius\"]}, FOS: {a[\"FOS\"]}')"
   ]
  },
  {
   "cell_type": "code",
   "execution_count": 15,
   "metadata": {},
   "outputs": [
    {
     "name": "stdout",
     "output_type": "stream",
     "text": [
      "pendiente= 10 FS= 4.160990088767746\n",
      "pendiente= 11 FS= 3.822529138050937\n",
      "pendiente= 12 FS= 3.5295153784465483\n",
      "pendiente= 13 FS= 3.2796248813319844\n",
      "pendiente= 14 FS= 3.0639288547403534\n",
      "pendiente= 15 FS= 2.8753122321445606\n",
      "pendiente= 16 FS= 2.708912384560656\n",
      "pendiente= 17 FS= 2.560865693982024\n",
      "pendiente= 18 FS= 2.428162094944115\n",
      "pendiente= 19 FS= 2.3084209146849184\n",
      "pendiente= 20 FS= 2.1997339198111545\n",
      "pendiente= 21 FS= 2.1005531709204837\n",
      "pendiente= 22 FS= 2.060059575935138\n",
      "pendiente= 23 FS= 1.9751063838279024\n",
      "pendiente= 24 FS= 1.8964989819774924\n",
      "pendiente= 25 FS= 1.8234962727068187\n",
      "pendiente= 26 FS= 1.7478398028839521\n",
      "pendiente= 27 FS= 1.6925809046199902\n",
      "pendiente= 28 FS= 1.6364915422288413\n",
      "pendiente= 29 FS= 1.5897701519710543\n",
      "pendiente= 30 FS= 1.545132342334297\n"
     ]
    }
   ],
   "source": [
    "# Prueba de la libreria pyslope\n",
    "\n",
    "import pyslope as sp\n",
    "\n",
    "for i in range(10,31):\n",
    "    s = sp.Slope(height=3, angle=i, length=None)\n",
    "\n",
    "    sp.Slope.plot_boundary(s, material_table=False, legend=False)\n",
    "\n",
    "     #Material defined with key word arguments\n",
    "    m1 = sp.Material(\n",
    "        unit_weight=20,\n",
    "        friction_angle=45,\n",
    "        cohesion=2,\n",
    "        depth_to_bottom=4\n",
    "    )\n",
    "\n",
    "    # Material defined with positional arguments\n",
    "    m2 = sp.Material(20, 30, 2, 3)\n",
    "\n",
    "    # An unlimited number of materials can be assigned at one time\n",
    "    s.set_materials(m1, m2)\n",
    "\n",
    "\n",
    "    # analisys\n",
    "    s.set_analysis_limits(s.get_top_coordinates()[0] - 5, s.get_bottom_coordinates()[0] + 5) # limits\n",
    "\n",
    "    s.analyse_slope()\n",
    "\n",
    "    print(\"pendiente=\",i,\"FS=\",s.get_min_FOS())\n",
    "\n",
    "    #s.plot_boundary()  # plots only the boundary\n",
    "    #s.plot_critical()  # plots the boundary with the critical failure of the slope\n",
    "    #s.plot_all_planes(max_fos=1) # plots boundary with all slope failures below fos i (where i is number)\n"
   ]
  },
  {
   "cell_type": "code",
   "execution_count": 12,
   "metadata": {},
   "outputs": [
    {
     "name": "stdout",
     "output_type": "stream",
     "text": [
      "2.9833327921996964\n"
     ]
    }
   ],
   "source": [
    "import pyslope as sp\n",
    "\n",
    "s = sp.Slope(height=5, angle=30, length=None)\n",
    "\n",
    "sp.Slope.plot_boundary(s, material_table=False, legend=False)\n",
    "\n",
    "# Material defined with key word arguments\n",
    "m1 = sp.Material(\n",
    "    unit_weight=20,\n",
    "    friction_angle=30,\n",
    "    cohesion=20,\n",
    "    depth_to_bottom=4\n",
    ")\n",
    "\n",
    "# Material defined with positional arguments\n",
    "#m2 = sp.Material(20, 30, 2, 3)\n",
    "\n",
    "# An unlimited number of materials can be assigned at one time\n",
    "s.set_materials(m1)\n",
    "\n",
    "\n",
    "# analisys\n",
    "s.set_analysis_limits(s.get_top_coordinates()[0] - 5, s.get_bottom_coordinates()[0] + 5) # limits\n",
    "\n",
    "s.analyse_slope()\n",
    "\n",
    "print(s.get_min_FOS())\n",
    "\n",
    "#s.plot_boundary()  # plots only the boundary\n",
    "#s.plot_critical()  # plots the boundary with the critical failure of the slope\n",
    "#s.plot_all_planes(max_fos=1) # plots boundary with all slope failures below fos i (where i is number)"
   ]
  }
 ],
 "metadata": {
  "kernelspec": {
   "display_name": "Python 3",
   "language": "python",
   "name": "python3"
  },
  "language_info": {
   "codemirror_mode": {
    "name": "ipython",
    "version": 3
   },
   "file_extension": ".py",
   "mimetype": "text/x-python",
   "name": "python",
   "nbconvert_exporter": "python",
   "pygments_lexer": "ipython3",
   "version": "3.11.1"
  }
 },
 "nbformat": 4,
 "nbformat_minor": 2
}
