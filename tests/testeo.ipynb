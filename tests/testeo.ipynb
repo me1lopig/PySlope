{
 "cells": [
  {
   "cell_type": "code",
   "execution_count": 3,
   "metadata": {},
   "outputs": [
    {
     "name": "stdout",
     "output_type": "stream",
     "text": [
      "5 5 0.25156032776928244\n",
      "6 5 0.25156032776928244\n",
      "7 5 0.25156032776928244\n",
      "8 5 0.25156032776928244\n",
      "9 5 0.25156032776928244\n",
      "10 5 0.25156032776928244\n",
      "11 5 0.25156032776928244\n",
      "12 5 0.25156032776928244\n",
      "13 5 0.25156032776928244\n",
      "14 5 0.25156032776928244\n",
      "15 5 0.25156032776928244\n",
      "16 5 0.25156032776928244\n",
      "17 5 0.25156032776928244\n",
      "18 5 0.25156032776928244\n",
      "19 5 0.25156032776928244\n",
      "20 5 0.25156032776928244\n",
      "21 5 0.25156032776928244\n",
      "22 5 0.25156032776928244\n",
      "23 5 0.25156032776928244\n",
      "24 5 0.25156032776928244\n",
      "25 5 0.25156032776928244\n",
      "26 5 0.25156032776928244\n",
      "27 5 0.25156032776928244\n",
      "28 5 0.25156032776928244\n",
      "29 5 0.25156032776928244\n",
      "30 5 0.25156032776928244\n",
      "31 5 0.25156032776928244\n",
      "32 5 0.25156032776928244\n"
     ]
    },
    {
     "ename": "KeyboardInterrupt",
     "evalue": "",
     "output_type": "error",
     "traceback": [
      "\u001b[0;31m---------------------------------------------------------------------------\u001b[0m",
      "\u001b[0;31mKeyboardInterrupt\u001b[0m                         Traceback (most recent call last)",
      "Cell \u001b[0;32mIn[3], line 46\u001b[0m\n\u001b[1;32m     37\u001b[0m s\u001b[38;5;241m.\u001b[39mset_analysis_limits(s\u001b[38;5;241m.\u001b[39mget_top_coordinates()[\u001b[38;5;241m0\u001b[39m] \u001b[38;5;241m-\u001b[39m \u001b[38;5;241m10\u001b[39m, s\u001b[38;5;241m.\u001b[39mget_bottom_coordinates()[\u001b[38;5;241m0\u001b[39m] \u001b[38;5;241m+\u001b[39m \u001b[38;5;241m10\u001b[39m) \u001b[38;5;66;03m# limits\u001b[39;00m\n\u001b[1;32m     39\u001b[0m s\u001b[38;5;241m.\u001b[39mupdate_analysis_options(\n\u001b[1;32m     40\u001b[0m     slices\u001b[38;5;241m=\u001b[39m\u001b[38;5;241m50\u001b[39m,\n\u001b[1;32m     41\u001b[0m     iterations\u001b[38;5;241m=\u001b[39m\u001b[38;5;241m2500\u001b[39m,\n\u001b[1;32m     42\u001b[0m     tolerance\u001b[38;5;241m=\u001b[39m\u001b[38;5;241m0.005\u001b[39m,\n\u001b[1;32m     43\u001b[0m     max_iterations\u001b[38;5;241m=\u001b[39m\u001b[38;5;241m50\u001b[39m\n\u001b[1;32m     44\u001b[0m )\n\u001b[0;32m---> 46\u001b[0m \u001b[43ms\u001b[49m\u001b[38;5;241;43m.\u001b[39;49m\u001b[43manalyse_slope\u001b[49m\u001b[43m(\u001b[49m\u001b[43m)\u001b[49m \u001b[38;5;66;03m# aqui se produce el error\u001b[39;00m\n\u001b[1;32m     48\u001b[0m \u001b[38;5;28mprint\u001b[39m(c,ang_roz,s\u001b[38;5;241m.\u001b[39mget_min_FOS())\n\u001b[1;32m     50\u001b[0m \u001b[38;5;66;03m#s.plot_boundary()  # plots only the boundary\u001b[39;00m\n\u001b[1;32m     51\u001b[0m \u001b[38;5;66;03m#s.plot_critical()  # plots the boundary with the critical failure of the slope\u001b[39;00m\n\u001b[1;32m     52\u001b[0m \u001b[38;5;66;03m#s.plot_all_planes(max_fos=1) # plots boundary with all slope failures below fos i (where i is number)\u001b[39;00m\n",
      "File \u001b[0;32m/Library/Frameworks/Python.framework/Versions/3.11/lib/python3.11/site-packages/pyslope/pyslope.py:1197\u001b[0m, in \u001b[0;36mSlope.analyse_slope\u001b[0;34m(self, max_fos)\u001b[0m\n\u001b[1;32m   1195\u001b[0m \u001b[38;5;28;01mwith\u001b[39;00m multiprocessing\u001b[38;5;241m.\u001b[39mManager() \u001b[38;5;28;01mas\u001b[39;00m manager:\n\u001b[1;32m   1196\u001b[0m     \u001b[38;5;28;01mwith\u001b[39;00m manager\u001b[38;5;241m.\u001b[39mPool() \u001b[38;5;28;01mas\u001b[39;00m pool:\n\u001b[0;32m-> 1197\u001b[0m         results \u001b[38;5;241m=\u001b[39m \u001b[43mpool\u001b[49m\u001b[38;5;241;43m.\u001b[39;49m\u001b[43mstarmap\u001b[49m\u001b[43m(\u001b[49m\n\u001b[1;32m   1198\u001b[0m \u001b[43m            \u001b[49m\u001b[38;5;28;43mself\u001b[39;49m\u001b[38;5;241;43m.\u001b[39;49m\u001b[43m_analyse_circular_failure_bishop\u001b[49m\u001b[43m,\u001b[49m\n\u001b[1;32m   1199\u001b[0m \u001b[43m            \u001b[49m\u001b[43m[\u001b[49m\n\u001b[1;32m   1200\u001b[0m \u001b[43m                \u001b[49m\u001b[43m(\u001b[49m\n\u001b[1;32m   1201\u001b[0m \u001b[43m                    \u001b[49m\u001b[43msearch\u001b[49m\u001b[43m[\u001b[49m\u001b[38;5;124;43m\"\u001b[39;49m\u001b[38;5;124;43mc_x\u001b[39;49m\u001b[38;5;124;43m\"\u001b[39;49m\u001b[43m]\u001b[49m\u001b[43m,\u001b[49m\n\u001b[1;32m   1202\u001b[0m \u001b[43m                    \u001b[49m\u001b[43msearch\u001b[49m\u001b[43m[\u001b[49m\u001b[38;5;124;43m\"\u001b[39;49m\u001b[38;5;124;43mc_y\u001b[39;49m\u001b[38;5;124;43m\"\u001b[39;49m\u001b[43m]\u001b[49m\u001b[43m,\u001b[49m\n\u001b[1;32m   1203\u001b[0m \u001b[43m                    \u001b[49m\u001b[43msearch\u001b[49m\u001b[43m[\u001b[49m\u001b[38;5;124;43m\"\u001b[39;49m\u001b[38;5;124;43mradius\u001b[39;49m\u001b[38;5;124;43m\"\u001b[39;49m\u001b[43m]\u001b[49m\u001b[43m,\u001b[49m\n\u001b[1;32m   1204\u001b[0m \u001b[43m                \u001b[49m\u001b[43m)\u001b[49m\n\u001b[1;32m   1205\u001b[0m \u001b[43m                \u001b[49m\u001b[38;5;28;43;01mfor\u001b[39;49;00m\u001b[43m \u001b[49m\u001b[43msearch\u001b[49m\u001b[43m \u001b[49m\u001b[38;5;129;43;01min\u001b[39;49;00m\u001b[43m \u001b[49m\u001b[38;5;28;43mself\u001b[39;49m\u001b[38;5;241;43m.\u001b[39;49m\u001b[43m_search\u001b[49m\n\u001b[1;32m   1206\u001b[0m \u001b[43m            \u001b[49m\u001b[43m]\u001b[49m\u001b[43m,\u001b[49m\n\u001b[1;32m   1207\u001b[0m \u001b[43m        \u001b[49m\u001b[43m)\u001b[49m\n\u001b[1;32m   1209\u001b[0m \u001b[38;5;66;03m# add results to dictionary\u001b[39;00m\n\u001b[1;32m   1210\u001b[0m \u001b[38;5;28;01mfor\u001b[39;00m i \u001b[38;5;129;01min\u001b[39;00m \u001b[38;5;28mrange\u001b[39m(\u001b[38;5;28mlen\u001b[39m(\u001b[38;5;28mself\u001b[39m\u001b[38;5;241m.\u001b[39m_search)):\n",
      "File \u001b[0;32m<string>:2\u001b[0m, in \u001b[0;36mstarmap\u001b[0;34m(self, *args, **kwds)\u001b[0m\n",
      "File \u001b[0;32m/Library/Frameworks/Python.framework/Versions/3.11/lib/python3.11/multiprocessing/managers.py:822\u001b[0m, in \u001b[0;36mBaseProxy._callmethod\u001b[0;34m(self, methodname, args, kwds)\u001b[0m\n\u001b[1;32m    819\u001b[0m     conn \u001b[38;5;241m=\u001b[39m \u001b[38;5;28mself\u001b[39m\u001b[38;5;241m.\u001b[39m_tls\u001b[38;5;241m.\u001b[39mconnection\n\u001b[1;32m    821\u001b[0m conn\u001b[38;5;241m.\u001b[39msend((\u001b[38;5;28mself\u001b[39m\u001b[38;5;241m.\u001b[39m_id, methodname, args, kwds))\n\u001b[0;32m--> 822\u001b[0m kind, result \u001b[38;5;241m=\u001b[39m \u001b[43mconn\u001b[49m\u001b[38;5;241;43m.\u001b[39;49m\u001b[43mrecv\u001b[49m\u001b[43m(\u001b[49m\u001b[43m)\u001b[49m\n\u001b[1;32m    824\u001b[0m \u001b[38;5;28;01mif\u001b[39;00m kind \u001b[38;5;241m==\u001b[39m \u001b[38;5;124m'\u001b[39m\u001b[38;5;124m#RETURN\u001b[39m\u001b[38;5;124m'\u001b[39m:\n\u001b[1;32m    825\u001b[0m     \u001b[38;5;28;01mreturn\u001b[39;00m result\n",
      "File \u001b[0;32m/Library/Frameworks/Python.framework/Versions/3.11/lib/python3.11/multiprocessing/connection.py:249\u001b[0m, in \u001b[0;36m_ConnectionBase.recv\u001b[0;34m(self)\u001b[0m\n\u001b[1;32m    247\u001b[0m \u001b[38;5;28mself\u001b[39m\u001b[38;5;241m.\u001b[39m_check_closed()\n\u001b[1;32m    248\u001b[0m \u001b[38;5;28mself\u001b[39m\u001b[38;5;241m.\u001b[39m_check_readable()\n\u001b[0;32m--> 249\u001b[0m buf \u001b[38;5;241m=\u001b[39m \u001b[38;5;28;43mself\u001b[39;49m\u001b[38;5;241;43m.\u001b[39;49m\u001b[43m_recv_bytes\u001b[49m\u001b[43m(\u001b[49m\u001b[43m)\u001b[49m\n\u001b[1;32m    250\u001b[0m \u001b[38;5;28;01mreturn\u001b[39;00m _ForkingPickler\u001b[38;5;241m.\u001b[39mloads(buf\u001b[38;5;241m.\u001b[39mgetbuffer())\n",
      "File \u001b[0;32m/Library/Frameworks/Python.framework/Versions/3.11/lib/python3.11/multiprocessing/connection.py:413\u001b[0m, in \u001b[0;36mConnection._recv_bytes\u001b[0;34m(self, maxsize)\u001b[0m\n\u001b[1;32m    412\u001b[0m \u001b[38;5;28;01mdef\u001b[39;00m \u001b[38;5;21m_recv_bytes\u001b[39m(\u001b[38;5;28mself\u001b[39m, maxsize\u001b[38;5;241m=\u001b[39m\u001b[38;5;28;01mNone\u001b[39;00m):\n\u001b[0;32m--> 413\u001b[0m     buf \u001b[38;5;241m=\u001b[39m \u001b[38;5;28;43mself\u001b[39;49m\u001b[38;5;241;43m.\u001b[39;49m\u001b[43m_recv\u001b[49m\u001b[43m(\u001b[49m\u001b[38;5;241;43m4\u001b[39;49m\u001b[43m)\u001b[49m\n\u001b[1;32m    414\u001b[0m     size, \u001b[38;5;241m=\u001b[39m struct\u001b[38;5;241m.\u001b[39munpack(\u001b[38;5;124m\"\u001b[39m\u001b[38;5;124m!i\u001b[39m\u001b[38;5;124m\"\u001b[39m, buf\u001b[38;5;241m.\u001b[39mgetvalue())\n\u001b[1;32m    415\u001b[0m     \u001b[38;5;28;01mif\u001b[39;00m size \u001b[38;5;241m==\u001b[39m \u001b[38;5;241m-\u001b[39m\u001b[38;5;241m1\u001b[39m:\n",
      "File \u001b[0;32m/Library/Frameworks/Python.framework/Versions/3.11/lib/python3.11/multiprocessing/connection.py:378\u001b[0m, in \u001b[0;36mConnection._recv\u001b[0;34m(self, size, read)\u001b[0m\n\u001b[1;32m    376\u001b[0m remaining \u001b[38;5;241m=\u001b[39m size\n\u001b[1;32m    377\u001b[0m \u001b[38;5;28;01mwhile\u001b[39;00m remaining \u001b[38;5;241m>\u001b[39m \u001b[38;5;241m0\u001b[39m:\n\u001b[0;32m--> 378\u001b[0m     chunk \u001b[38;5;241m=\u001b[39m read(handle, remaining)\n\u001b[1;32m    379\u001b[0m     n \u001b[38;5;241m=\u001b[39m \u001b[38;5;28mlen\u001b[39m(chunk)\n\u001b[1;32m    380\u001b[0m     \u001b[38;5;28;01mif\u001b[39;00m n \u001b[38;5;241m==\u001b[39m \u001b[38;5;241m0\u001b[39m:\n",
      "\u001b[0;31mKeyboardInterrupt\u001b[0m: "
     ]
    }
   ],
   "source": [
    "# Prueba de la libreria pyslope\n",
    "# con una lista de valores de pendientes y de altura de talud\n",
    "# posibles variables \n",
    "# altura, pendiente\n",
    "# cohesion, angulo de friccion, peso especifico\n",
    "# en este caso no se considera el nivel freático\n",
    "\n",
    "# el método sólo admite suelos horizontales\n",
    "# sólo se usa un material\n",
    "\n",
    "import pyslope as psp\n",
    "import numpy as np\n",
    "\n",
    "for ang_roz in np.arange(5,30):\n",
    "    for c in np.arange(5,50):\n",
    "    \n",
    "        s = psp.Slope(height=15,angle=30,length=None)\n",
    "\n",
    "        psp.Slope.plot_boundary(s, material_table=False, legend=False)\n",
    "\n",
    "        # Material defined with key word arguments\n",
    "        m1 = psp.Material(\n",
    "            unit_weight=20,\n",
    "            friction_angle=float(ang_roz),\n",
    "            cohesion=2,\n",
    "            depth_to_bottom=30,\n",
    "        )\n",
    "\n",
    "        # Material defined with positional arguments\n",
    "        #m2 = psp.Material(20, 30, 2, 3)\n",
    "\n",
    "        # An unlimited number of materials can be assigned at one time\n",
    "        #s.set_materials(m1, m2)\n",
    "        s.set_materials(m1)\n",
    "\n",
    "        # analisys\n",
    "        s.set_analysis_limits(s.get_top_coordinates()[0] - 10, s.get_bottom_coordinates()[0] + 10) # limits\n",
    "\n",
    "        s.update_analysis_options(\n",
    "            slices=50,\n",
    "            iterations=2500,\n",
    "            tolerance=0.005,\n",
    "            max_iterations=50\n",
    "        )\n",
    "\n",
    "        s.analyse_slope() # aqui se produce el error\n",
    "\n",
    "        print(c,ang_roz,s.get_min_FOS())\n",
    "\n",
    "        #s.plot_boundary()  # plots only the boundary\n",
    "        #s.plot_critical()  # plots the boundary with the critical failure of the slope\n",
    "        #s.plot_all_planes(max_fos=1) # plots boundary with all slope failures below fos i (where i is number)"
   ]
  }
 ],
 "metadata": {
  "kernelspec": {
   "display_name": "Python 3",
   "language": "python",
   "name": "python3"
  },
  "language_info": {
   "codemirror_mode": {
    "name": "ipython",
    "version": 3
   },
   "file_extension": ".py",
   "mimetype": "text/x-python",
   "name": "python",
   "nbconvert_exporter": "python",
   "pygments_lexer": "ipython3",
   "version": "3.11.1"
  }
 },
 "nbformat": 4,
 "nbformat_minor": 2
}
