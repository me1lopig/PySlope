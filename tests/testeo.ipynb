{
 "cells": [
  {
   "cell_type": "code",
   "execution_count": 8,
   "metadata": {},
   "outputs": [
    {
     "name": "stderr",
     "output_type": "stream",
     "text": [
      "100%|██████████| 7/7 [00:00<00:00, 2131.10it/s]\n"
     ]
    },
    {
     "name": "stdout",
     "output_type": "stream",
     "text": [
      "Slices: 10\n",
      "radius: 3, FOS: 1.8508413415134917\n",
      "radius: 4, FOS: 2.7906284957600977\n",
      "radius: 5, FOS: 3.442631141350267\n",
      "radius: 6, FOS: 3.9884864760496455\n",
      "radius: 7, FOS: 4.618650895261269\n",
      "radius: 8, FOS: 5.2896121644413405\n",
      "radius: 9, FOS: 5.984422769524536\n",
      "Slices: 25\n",
      "radius: 3, FOS: 1.8620101073963906\n",
      "radius: 4, FOS: 2.8170503224073813\n",
      "radius: 5, FOS: 3.466160305994782\n",
      "radius: 6, FOS: 4.020126961058874\n",
      "radius: 7, FOS: 4.643604194529192\n",
      "radius: 8, FOS: 5.300957336198947\n",
      "radius: 9, FOS: 5.987009829387771\n",
      "Slices: 50\n",
      "radius: 3, FOS: 1.8628698572039657\n",
      "radius: 4, FOS: 2.823431388089444\n",
      "radius: 5, FOS: 3.4755492109005255\n",
      "radius: 6, FOS: 4.02833606858017\n",
      "radius: 7, FOS: 4.652195335974324\n",
      "radius: 8, FOS: 5.31616479845361\n",
      "radius: 9, FOS: 5.999273688420868\n",
      "Slices: 500\n",
      "radius: 3, FOS: 1.8632741453673627\n",
      "radius: 4, FOS: 2.8267311675137883\n",
      "radius: 5, FOS: 3.4814577302981737\n",
      "radius: 6, FOS: 4.034704510570193\n",
      "radius: 7, FOS: 4.659427596910367\n",
      "radius: 8, FOS: 5.323276935054001\n",
      "radius: 9, FOS: 6.008285588329595\n",
      "Slices: 2000\n",
      "radius: 3, FOS: 1.8632741453673627\n",
      "radius: 4, FOS: 2.8267311675137883\n",
      "radius: 5, FOS: 3.4814577302981737\n",
      "radius: 6, FOS: 4.034704510570193\n",
      "radius: 7, FOS: 4.659427596910367\n",
      "radius: 8, FOS: 5.323276935054001\n",
      "radius: 9, FOS: 6.008285588329595\n"
     ]
    }
   ],
   "source": [
    "# Effect of slices on results\n",
    "\n",
    "import pyslope as sp\n",
    "\n",
    "\n",
    "s = sp.Slope(height=3, angle=30, length=None)\n",
    "\n",
    "m1 = sp.Material(20, 35, 0, 0.5)\n",
    "m2 = sp.Material(20, 35, 0, 1)\n",
    "m3 = sp.Material(18, 30, 0, 5)\n",
    "\n",
    "s.set_materials(m1, m2, m3)\n",
    "\n",
    "\n",
    "\n",
    "for r in range(2, 10):\n",
    "    s.add_single_circular_plane(\n",
    "        c_x=s.get_bottom_coordinates()[0],\n",
    "        c_y=s.get_bottom_coordinates()[1] + 2.5,\n",
    "        radius=r,\n",
    "    )\n",
    "\n",
    "slices = [10, 25, 50, 500,2000]\n",
    "\n",
    "for i in slices:\n",
    "\n",
    "    s.update_analysis_options(slices=i)\n",
    "    s.analyse_slope()\n",
    "\n",
    "    print(f'Slices: {i}')\n",
    "    for a in s._search:\n",
    "        print(f'radius: {a[\"radius\"]}, FOS: {a[\"FOS\"]}')"
   ]
  },
  {
   "cell_type": "code",
   "execution_count": 7,
   "metadata": {},
   "outputs": [
    {
     "ename": "ValueError",
     "evalue": "Mime type rendering requires nbformat>=4.2.0 but it is not installed",
     "output_type": "error",
     "traceback": [
      "\u001b[1;31m---------------------------------------------------------------------------\u001b[0m",
      "\u001b[1;31mValueError\u001b[0m                                Traceback (most recent call last)",
      "Cell \u001b[1;32mIn[7], line 28\u001b[0m\n\u001b[0;32m     25\u001b[0m s\u001b[38;5;241m.\u001b[39manalyse_slope()\n\u001b[0;32m     27\u001b[0m fig \u001b[38;5;241m=\u001b[39m s\u001b[38;5;241m.\u001b[39mplot_boundary()  \u001b[38;5;66;03m# store a plot in local variable\u001b[39;00m\n\u001b[1;32m---> 28\u001b[0m \u001b[43mfig\u001b[49m\u001b[38;5;241;43m.\u001b[39;49m\u001b[43mshow\u001b[49m\u001b[43m(\u001b[49m\u001b[43m)\u001b[49m\n\u001b[0;32m     30\u001b[0m critical\u001b[38;5;241m=\u001b[39ms\u001b[38;5;241m.\u001b[39mplot_critical()  \u001b[38;5;66;03m# plots the boundary with the critical failure of the slope\u001b[39;00m\n\u001b[0;32m     31\u001b[0m critical\u001b[38;5;241m.\u001b[39mshow()\n",
      "File \u001b[1;32m~\\AppData\\Roaming\\Python\\Python313\\site-packages\\plotly\\basedatatypes.py:3414\u001b[0m, in \u001b[0;36mBaseFigure.show\u001b[1;34m(self, *args, **kwargs)\u001b[0m\n\u001b[0;32m   3381\u001b[0m \u001b[38;5;250m\u001b[39m\u001b[38;5;124;03m\"\"\"\u001b[39;00m\n\u001b[0;32m   3382\u001b[0m \u001b[38;5;124;03mShow a figure using either the default renderer(s) or the renderer(s)\u001b[39;00m\n\u001b[0;32m   3383\u001b[0m \u001b[38;5;124;03mspecified by the renderer argument\u001b[39;00m\n\u001b[1;32m   (...)\u001b[0m\n\u001b[0;32m   3410\u001b[0m \u001b[38;5;124;03mNone\u001b[39;00m\n\u001b[0;32m   3411\u001b[0m \u001b[38;5;124;03m\"\"\"\u001b[39;00m\n\u001b[0;32m   3412\u001b[0m \u001b[38;5;28;01mimport\u001b[39;00m\u001b[38;5;250m \u001b[39m\u001b[38;5;21;01mplotly\u001b[39;00m\u001b[38;5;21;01m.\u001b[39;00m\u001b[38;5;21;01mio\u001b[39;00m\u001b[38;5;250m \u001b[39m\u001b[38;5;28;01mas\u001b[39;00m\u001b[38;5;250m \u001b[39m\u001b[38;5;21;01mpio\u001b[39;00m\n\u001b[1;32m-> 3414\u001b[0m \u001b[38;5;28;01mreturn\u001b[39;00m \u001b[43mpio\u001b[49m\u001b[38;5;241;43m.\u001b[39;49m\u001b[43mshow\u001b[49m\u001b[43m(\u001b[49m\u001b[38;5;28;43mself\u001b[39;49m\u001b[43m,\u001b[49m\u001b[43m \u001b[49m\u001b[38;5;241;43m*\u001b[39;49m\u001b[43margs\u001b[49m\u001b[43m,\u001b[49m\u001b[43m \u001b[49m\u001b[38;5;241;43m*\u001b[39;49m\u001b[38;5;241;43m*\u001b[39;49m\u001b[43mkwargs\u001b[49m\u001b[43m)\u001b[49m\n",
      "File \u001b[1;32m~\\AppData\\Roaming\\Python\\Python313\\site-packages\\plotly\\io\\_renderers.py:425\u001b[0m, in \u001b[0;36mshow\u001b[1;34m(fig, renderer, validate, **kwargs)\u001b[0m\n\u001b[0;32m    420\u001b[0m     \u001b[38;5;28;01mraise\u001b[39;00m \u001b[38;5;167;01mValueError\u001b[39;00m(\n\u001b[0;32m    421\u001b[0m         \u001b[38;5;124m\"\u001b[39m\u001b[38;5;124mMime type rendering requires ipython but it is not installed\u001b[39m\u001b[38;5;124m\"\u001b[39m\n\u001b[0;32m    422\u001b[0m     )\n\u001b[0;32m    424\u001b[0m \u001b[38;5;28;01mif\u001b[39;00m \u001b[38;5;129;01mnot\u001b[39;00m nbformat \u001b[38;5;129;01mor\u001b[39;00m Version(nbformat\u001b[38;5;241m.\u001b[39m__version__) \u001b[38;5;241m<\u001b[39m Version(\u001b[38;5;124m\"\u001b[39m\u001b[38;5;124m4.2.0\u001b[39m\u001b[38;5;124m\"\u001b[39m):\n\u001b[1;32m--> 425\u001b[0m     \u001b[38;5;28;01mraise\u001b[39;00m \u001b[38;5;167;01mValueError\u001b[39;00m(\n\u001b[0;32m    426\u001b[0m         \u001b[38;5;124m\"\u001b[39m\u001b[38;5;124mMime type rendering requires nbformat>=4.2.0 but it is not installed\u001b[39m\u001b[38;5;124m\"\u001b[39m\n\u001b[0;32m    427\u001b[0m     )\n\u001b[0;32m    429\u001b[0m display_jupyter_version_warnings()\n\u001b[0;32m    431\u001b[0m ipython_display\u001b[38;5;241m.\u001b[39mdisplay(bundle, raw\u001b[38;5;241m=\u001b[39m\u001b[38;5;28;01mTrue\u001b[39;00m)\n",
      "\u001b[1;31mValueError\u001b[0m: Mime type rendering requires nbformat>=4.2.0 but it is not installed"
     ]
    }
   ],
   "source": [
    "# Prueba de la libreria pyslope\n",
    "\n",
    "import pyslope as ps\n",
    "\n",
    "s = ps.Slope(height=15, angle=45, length=None)\n",
    "\n",
    "ps.Slope.plot_boundary(s, material_table=False, legend=False)\n",
    "\n",
    "# Material defined with key word arguments\n",
    "m1 = ps.Material(\n",
    "    unit_weight=20,\n",
    "    friction_angle=30,\n",
    "    cohesion=10,\n",
    "    depth_to_bottom=25,\n",
    "    name=\"Terreno\",\n",
    "    color=\"green\"\n",
    ")\n",
    "\n",
    "# An unlimited number of materials can be assigned at one time\n",
    "s.set_materials(m1)\n",
    "\n",
    "# analisys\n",
    "s.set_analysis_limits(s.get_top_coordinates()[0] - 15, s.get_bottom_coordinates()[0] + 15) # limits\n",
    "\n",
    "s.analyse_slope()\n",
    "\n",
    "fig = s.plot_boundary()  # store a plot in local variable\n",
    "fig.show()\n",
    "\n",
    "critical=s.plot_critical()  # plots the boundary with the critical failure of the slope\n",
    "critical.show()\n",
    "\n",
    "allPlanes=s.plot_all_planes(max_fos=1) # plots boundary with all slope failures below fos i (where i is number)\n",
    "allPlanes.show()\n",
    "\n",
    "print(\"FS=%.3f\"%s.get_min_FOS())\n"
   ]
  },
  {
   "cell_type": "code",
   "execution_count": 2,
   "metadata": {},
   "outputs": [
    {
     "name": "stdout",
     "output_type": "stream",
     "text": [
      "FS= 1.914883163066144\n"
     ]
    }
   ],
   "source": [
    "# Prueba della libreria pyslope\n",
    "\n",
    "import pyslope as sp\n",
    "\n",
    "s = sp.Slope(height=10, angle=30, length=None)\n",
    "\n",
    "\n",
    "# Material defined with key word arguments\n",
    "m1 = sp.Material(\n",
    "    unit_weight=20,\n",
    "    friction_angle=25,\n",
    "    cohesion=20,\n",
    "    depth_to_bottom=15\n",
    ")\n",
    "\n",
    "\n",
    "# An unlimited number of materials can be assigned at one time\n",
    "\n",
    "s.set_materials(m1)\n",
    "\n",
    "s.set_analysis_limits(s.get_top_coordinates()[0] - 5, s.get_bottom_coordinates()[0] + 5) # limits\n",
    "\n",
    "s.analyse_slope()\n",
    "\n",
    "print(\"FS=\",s.get_min_FOS())\n",
    "\n"
   ]
  },
  {
   "cell_type": "code",
   "execution_count": null,
   "metadata": {},
   "outputs": [],
   "source": []
  }
 ],
 "metadata": {
  "kernelspec": {
   "display_name": "Python 3",
   "language": "python",
   "name": "python3"
  },
  "language_info": {
   "codemirror_mode": {
    "name": "ipython",
    "version": 3
   },
   "file_extension": ".py",
   "mimetype": "text/x-python",
   "name": "python",
   "nbconvert_exporter": "python",
   "pygments_lexer": "ipython3",
   "version": "3.13.1"
  }
 },
 "nbformat": 4,
 "nbformat_minor": 2
}
