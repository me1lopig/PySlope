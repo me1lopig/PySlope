{
 "cells": [
  {
   "cell_type": "code",
   "execution_count": null,
   "metadata": {},
   "outputs": [],
   "source": [
    "# Effect of slices on results\n",
    "\n",
    "import pyslope as sp\n",
    "\n",
    "\n",
    "s = sp.Slope(height=3, angle=30, length=None)\n",
    "\n",
    "m1 = sp.Material(20, 35, 0, 0.5)\n",
    "m2 = sp.Material(20, 35, 0, 1)\n",
    "m3 = sp.Material(18, 30, 0, 5)\n",
    "\n",
    "s.set_materials(m1, m2, m3)\n",
    "\n",
    "\n",
    "\n",
    "for r in range(2, 10):\n",
    "    s.add_single_circular_plane(\n",
    "        c_x=s.get_bottom_coordinates()[0],\n",
    "        c_y=s.get_bottom_coordinates()[1] + 2.5,\n",
    "        radius=r,\n",
    "    )\n",
    "\n",
    "slices = [10, 25, 50, 500,2000]\n",
    "\n",
    "for i in slices:\n",
    "\n",
    "    s.update_analysis_options(slices=i)\n",
    "    s.analyse_slope()\n",
    "\n",
    "    print(f'Slices: {i}')\n",
    "    for a in s._search:\n",
    "        print(f'radius: {a[\"radius\"]}, FOS: {a[\"FOS\"]}')"
   ]
  },
  {
   "cell_type": "code",
   "execution_count": null,
   "metadata": {},
   "outputs": [
    {
     "name": "stdout",
     "output_type": "stream",
     "text": [
      "FS= 1.8998316337798256\n"
     ]
    }
   ],
   "source": [
    "# Prueba della libreria pyslope\n",
    "\n",
    "import pyslope as sp\n",
    "\n",
    "s = sp.Slope(height=6, angle=45, length=None)\n",
    "\n",
    "\n",
    "# Material defined with key word arguments\n",
    "m1 = sp.Material(\n",
    "    unit_weight=20,\n",
    "    friction_angle=25,\n",
    "    cohesion=20,\n",
    "    depth_to_bottom=15\n",
    ")\n",
    "\n",
    "# An unlimited number of materials can be assigned at one time\n",
    "\n",
    "s.set_materials(m1)\n",
    "\n",
    "s.set_analysis_limits(s.get_top_coordinates()[0] - 5, s.get_bottom_coordinates()[0] + 5) # limits\n",
    "\n",
    "s.analyse_slope()\n",
    "\n",
    "print(\"FS=\",s.get_min_FOS())"
   ]
  },
  {
   "cell_type": "code",
   "execution_count": null,
   "metadata": {},
   "outputs": [],
   "source": [
    "# Prueba de la libreria pyslope\n",
    "\n",
    "import pyslope as ps\n",
    "\n",
    "s = ps.Slope(height=15, angle=45, length=None)\n",
    "\n",
    "ps.Slope.plot_boundary(s, material_table=False, legend=False)\n",
    "\n",
    "# Material defined with key word arguments\n",
    "m1 = ps.Material(\n",
    "    unit_weight=20,\n",
    "    friction_angle=30,\n",
    "    cohesion=10,\n",
    "    depth_to_bottom=25,\n",
    "    name=\"Terreno\",\n",
    "    color=\"green\"\n",
    ")\n",
    "\n",
    "# An unlimited number of materials can be assigned at one time\n",
    "s.set_materials(m1)\n",
    "\n",
    "# analisys\n",
    "s.set_analysis_limits(s.get_top_coordinates()[0] - 15, s.get_bottom_coordinates()[0] + 15) # limits\n",
    "\n",
    "s.analyse_slope()\n",
    "\n",
    "fig = s.plot_boundary()  # store a plot in local variable\n",
    "fig.show()\n",
    "\n",
    "critical=s.plot_critical()  # plots the boundary with the critical failure of the slope\n",
    "critical.show()\n",
    "\n",
    "allPlanes=s.plot_all_planes(max_fos=1) # plots boundary with all slope failures below fos i (where i is number)\n",
    "allPlanes.show()\n",
    "\n",
    "print(\"FS=%.3f\"%s.get_min_FOS())\n"
   ]
  },
  {
   "cell_type": "code",
   "execution_count": null,
   "metadata": {},
   "outputs": [],
   "source": [
    "\n",
    "\n"
   ]
  },
  {
   "cell_type": "code",
   "execution_count": null,
   "metadata": {},
   "outputs": [],
   "source": []
  }
 ],
 "metadata": {
  "kernelspec": {
   "display_name": "Python 3",
   "language": "python",
   "name": "python3"
  },
  "language_info": {
   "codemirror_mode": {
    "name": "ipython",
    "version": 3
   },
   "file_extension": ".py",
   "mimetype": "text/x-python",
   "name": "python",
   "nbconvert_exporter": "python",
   "pygments_lexer": "ipython3",
   "version": "3.13.1"
  }
 },
 "nbformat": 4,
 "nbformat_minor": 2
}
