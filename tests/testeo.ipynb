{
 "cells": [
  {
   "cell_type": "code",
   "execution_count": 35,
   "metadata": {},
   "outputs": [
    {
     "name": "stdout",
     "output_type": "stream",
     "text": [
      "10 0.42678545394182626\n",
      "11 0.46162139104533334\n",
      "12 0.4966932555063053\n",
      "13 0.5317130332890931\n",
      "14 0.5669377472843148\n",
      "15 0.6024697165761087\n",
      "16 0.6383350286701679\n",
      "17 0.6743656955591844\n",
      "18 0.7106261806937734\n",
      "19 0.7472999836679434\n",
      "20 0.7844169946231944\n",
      "21 0.8220083727343585\n",
      "22 0.8601066606586829\n",
      "23 0.8986291601804878\n",
      "24 0.93768491277412\n",
      "25 0.9771018149388693\n",
      "26 1.0171959329408427\n",
      "27 1.0579486060987113\n",
      "28 1.099085285696\n",
      "29 1.141156776276025\n",
      "30 1.1840258566556339\n"
     ]
    }
   ],
   "source": [
    "# Prueba de la libreria pyslope\n",
    "# con una lista de valores de pendientes y de altura de talud\n",
    "# posibles variables \n",
    "# altura, pendiente\n",
    "# cohesion, angulo de friccion, peso especifico\n",
    "# en este caso no se considera el nivel freático\n",
    "\n",
    "\n",
    "import pyslope as psp\n",
    "import numpy as np\n",
    "\n",
    "for ang_roz in np.arange(10,31):\n",
    "    \n",
    "    s = psp.Slope(height=15,angle=30,length=None)\n",
    "\n",
    "    psp.Slope.plot_boundary(s, material_table=False, legend=False)\n",
    "\n",
    "    # Material defined with key word arguments\n",
    "    m1 = psp.Material(\n",
    "        unit_weight=20,\n",
    "        friction_angle=float(ang_roz),\n",
    "        cohesion=2,\n",
    "        depth_to_bottom=30,\n",
    "    )\n",
    "\n",
    "    # Material defined with positional arguments\n",
    "    #m2 = psp.Material(20, 30, 2, 3)\n",
    "\n",
    "    # An unlimited number of materials can be assigned at one time\n",
    "    #s.set_materials(m1, m2)\n",
    "    s.set_materials(m1)\n",
    "\n",
    "    # analisys\n",
    "    s.set_analysis_limits(s.get_top_coordinates()[0] - 10, s.get_bottom_coordinates()[0] + 10) # limits\n",
    "\n",
    "    s.update_analysis_options(\n",
    "        slices=50,\n",
    "        iterations=2500,\n",
    "        tolerance=0.005,\n",
    "        max_iterations=50\n",
    "    )\n",
    "\n",
    "    s.analyse_slope() # aqui se produce el error\n",
    "\n",
    "    print(ang_roz,s.get_min_FOS())\n",
    "\n",
    "    #s.plot_boundary()  # plots only the boundary\n",
    "    #s.plot_critical()  # plots the boundary with the critical failure of the slope\n",
    "    #s.plot_all_planes(max_fos=1) # plots boundary with all slope failures below fos i (where i is number)"
   ]
  },
  {
   "cell_type": "code",
   "execution_count": 28,
   "metadata": {},
   "outputs": [
    {
     "name": "stdout",
     "output_type": "stream",
     "text": [
      "10\n",
      "11\n",
      "12\n",
      "13\n",
      "14\n",
      "15\n",
      "16\n",
      "17\n",
      "18\n",
      "19\n",
      "20\n",
      "21\n",
      "22\n",
      "23\n",
      "24\n",
      "25\n",
      "26\n",
      "27\n",
      "28\n",
      "29\n"
     ]
    }
   ],
   "source": [
    "for ang_roz in np.arange(10,30):\n",
    "    print(ang_roz)"
   ]
  }
 ],
 "metadata": {
  "kernelspec": {
   "display_name": "Python 3",
   "language": "python",
   "name": "python3"
  },
  "language_info": {
   "codemirror_mode": {
    "name": "ipython",
    "version": 3
   },
   "file_extension": ".py",
   "mimetype": "text/x-python",
   "name": "python",
   "nbconvert_exporter": "python",
   "pygments_lexer": "ipython3",
   "version": "3.13.1"
  }
 },
 "nbformat": 4,
 "nbformat_minor": 2
}
